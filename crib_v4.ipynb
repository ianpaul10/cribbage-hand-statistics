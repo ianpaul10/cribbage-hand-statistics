{
 "cells": [
  {
   "cell_type": "code",
   "execution_count": null,
   "metadata": {},
   "outputs": [],
   "source": [
    "import pandas as pd\n",
    "import numpy as np\n",
    "import matplotlib.pyplot as plt\n",
    "\n",
    "import csv"
   ]
  },
  {
   "cell_type": "code",
   "execution_count": null,
   "metadata": {},
   "outputs": [],
   "source": [
    "df = pd.read_csv(\"csv_outputs/crib_hands_output.csv\")"
   ]
  },
  {
   "cell_type": "code",
   "execution_count": null,
   "metadata": {},
   "outputs": [],
   "source": [
    "def sort_hand(comma_sep_hand: str) -> str:\n",
    "    cards = comma_sep_hand.split(\",\")\n",
    "    print(cards)\n",
    "    cards.sort()\n",
    "    return \",\".join(cards)"
   ]
  },
  {
   "cell_type": "code",
   "execution_count": null,
   "metadata": {},
   "outputs": [],
   "source": [
    "sort_hand(df.head(1)[\"dealt_hand\"].to_string())"
   ]
  },
  {
   "cell_type": "code",
   "execution_count": null,
   "metadata": {},
   "outputs": [],
   "source": [
    "df.head()"
   ]
  },
  {
   "cell_type": "code",
   "execution_count": null,
   "metadata": {},
   "outputs": [],
   "source": [
    "df[\"max_v_median_diff\"] = df[\"max_hand_ev_points\"] - df[\"median_hand_ev_points\"]\n",
    "df[\"max_v_ev_diff\"] = df[\"max_hand_ev_points\"] - df[\"ev_hand_ev_points\"]\n",
    "df[\"median_v_ev_diff\"] = df[\"median_hand_ev_points\"] - df[\"ev_hand_ev_points\"]\n",
    "df[\"dealt_hand_sorted_str\"] = df[\"dealt_hand\"].apply(lambda x: sort_hand(x))"
   ]
  },
  {
   "cell_type": "code",
   "execution_count": null,
   "metadata": {},
   "outputs": [],
   "source": [
    "df.head()"
   ]
  },
  {
   "cell_type": "code",
   "execution_count": null,
   "metadata": {},
   "outputs": [],
   "source": [
    "df.sort_values(\"max_v_median_diff\", ascending=True)"
   ]
  },
  {
   "cell_type": "code",
   "execution_count": null,
   "metadata": {},
   "outputs": [],
   "source": [
    "df.sort_values(\"median_v_ev_diff\", ascending=True)"
   ]
  },
  {
   "cell_type": "code",
   "execution_count": null,
   "metadata": {},
   "outputs": [],
   "source": [
    "df.where(df[\"max_hand_max_points\"] != df[\"ev_hand_max_points\"]).sort_values(\n",
    "    \"max_v_ev_diff\", ascending=True\n",
    ")"
   ]
  },
  {
   "cell_type": "code",
   "execution_count": null,
   "metadata": {},
   "outputs": [],
   "source": [
    "df.head(100).to_csv(\"crib_hands_output_smol.csv\")\n",
    "df.head(100).to_parquet(\"crib_hands_output_smol.parquet\")"
   ]
  },
  {
   "cell_type": "code",
   "execution_count": null,
   "metadata": {},
   "outputs": [],
   "source": [
    "df.to_parquet(\"csv_outputs/crib_hands_output_big_boi.parquet\")"
   ]
  }
 ],
 "metadata": {
  "kernelspec": {
   "display_name": "venv",
   "language": "python",
   "name": "python3"
  },
  "language_info": {
   "codemirror_mode": {
    "name": "ipython",
    "version": 3
   },
   "file_extension": ".py",
   "mimetype": "text/x-python",
   "name": "python",
   "nbconvert_exporter": "python",
   "pygments_lexer": "ipython3",
   "version": "3.12.2"
  }
 },
 "nbformat": 4,
 "nbformat_minor": 2
}
