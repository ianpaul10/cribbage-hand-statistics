{
 "cells": [
  {
   "cell_type": "code",
   "execution_count": 35,
   "metadata": {},
   "outputs": [],
   "source": [
    "import math\n",
    "import random\n",
    "from itertools import combinations"
   ]
  },
  {
   "cell_type": "code",
   "execution_count": 63,
   "metadata": {},
   "outputs": [],
   "source": [
    "_pretty_suits = [\"♥\", \"♦\", \"♠\", \"♣\"]\n",
    "_boring_suits = [\"H\", \"D\", \"S\", \"C\"]\n",
    "\n",
    "_values = list(range(2, 10))\n",
    "_values.extend([\"T\", \"J\", \"Q\", \"K\", \"A\"])\n",
    "\n",
    "deck = []\n",
    "boring_deck = []\n",
    "for i in range(len(_pretty_suits)):\n",
    "    for value in _values:\n",
    "        deck.append(f\"{value}{_pretty_suits[i]}\")\n",
    "        boring_deck.append(f\"{value}{_boring_suits[i]}\")"
   ]
  },
  {
   "cell_type": "code",
   "execution_count": 64,
   "metadata": {},
   "outputs": [
    {
     "name": "stdout",
     "output_type": "stream",
     "text": [
      "len(possible_hands)=270,725\n",
      "[('2H', '3H', '4H', '5H')]\n",
      "full_hand=('2H', '3H', '4H', '5H', '6H')\n",
      "path_param='2H,3H,4H,5H,6H'\n",
      "full_hand=('2H', '3H', '4H', '5H', '7H')\n",
      "path_param='2H,3H,4H,5H,7H'\n",
      "full_hand=('2H', '3H', '4H', '5H', '8H')\n",
      "path_param='2H,3H,4H,5H,8H'\n",
      "full_hand=('2H', '3H', '4H', '5H', '9H')\n",
      "path_param='2H,3H,4H,5H,9H'\n",
      "full_hand=('2H', '3H', '4H', '5H', 'TH')\n",
      "path_param='2H,3H,4H,5H,TH'\n",
      "full_hand=('2H', '3H', '4H', '5H', 'JH')\n",
      "path_param='2H,3H,4H,5H,JH'\n",
      "full_hand=('2H', '3H', '4H', '5H', 'QH')\n",
      "path_param='2H,3H,4H,5H,QH'\n",
      "full_hand=('2H', '3H', '4H', '5H', 'KH')\n",
      "path_param='2H,3H,4H,5H,KH'\n",
      "full_hand=('2H', '3H', '4H', '5H', 'AH')\n",
      "path_param='2H,3H,4H,5H,AH'\n",
      "full_hand=('2H', '3H', '4H', '5H', '2D')\n",
      "path_param='2H,3H,4H,5H,2D'\n",
      "full_hand=('2H', '3H', '4H', '5H', '3D')\n",
      "path_param='2H,3H,4H,5H,3D'\n",
      "full_hand=('2H', '3H', '4H', '5H', '4D')\n",
      "path_param='2H,3H,4H,5H,4D'\n",
      "full_hand=('2H', '3H', '4H', '5H', '5D')\n",
      "path_param='2H,3H,4H,5H,5D'\n",
      "full_hand=('2H', '3H', '4H', '5H', '6D')\n",
      "path_param='2H,3H,4H,5H,6D'\n",
      "full_hand=('2H', '3H', '4H', '5H', '7D')\n",
      "path_param='2H,3H,4H,5H,7D'\n",
      "full_hand=('2H', '3H', '4H', '5H', '8D')\n",
      "path_param='2H,3H,4H,5H,8D'\n",
      "full_hand=('2H', '3H', '4H', '5H', '9D')\n",
      "path_param='2H,3H,4H,5H,9D'\n",
      "full_hand=('2H', '3H', '4H', '5H', 'TD')\n",
      "path_param='2H,3H,4H,5H,TD'\n",
      "full_hand=('2H', '3H', '4H', '5H', 'JD')\n",
      "path_param='2H,3H,4H,5H,JD'\n",
      "full_hand=('2H', '3H', '4H', '5H', 'QD')\n",
      "path_param='2H,3H,4H,5H,QD'\n",
      "full_hand=('2H', '3H', '4H', '5H', 'KD')\n",
      "path_param='2H,3H,4H,5H,KD'\n",
      "full_hand=('2H', '3H', '4H', '5H', 'AD')\n",
      "path_param='2H,3H,4H,5H,AD'\n",
      "full_hand=('2H', '3H', '4H', '5H', '2S')\n",
      "path_param='2H,3H,4H,5H,2S'\n",
      "full_hand=('2H', '3H', '4H', '5H', '3S')\n",
      "path_param='2H,3H,4H,5H,3S'\n",
      "full_hand=('2H', '3H', '4H', '5H', '4S')\n",
      "path_param='2H,3H,4H,5H,4S'\n",
      "full_hand=('2H', '3H', '4H', '5H', '5S')\n",
      "path_param='2H,3H,4H,5H,5S'\n",
      "full_hand=('2H', '3H', '4H', '5H', '6S')\n",
      "path_param='2H,3H,4H,5H,6S'\n",
      "full_hand=('2H', '3H', '4H', '5H', '7S')\n",
      "path_param='2H,3H,4H,5H,7S'\n",
      "full_hand=('2H', '3H', '4H', '5H', '8S')\n",
      "path_param='2H,3H,4H,5H,8S'\n",
      "full_hand=('2H', '3H', '4H', '5H', '9S')\n",
      "path_param='2H,3H,4H,5H,9S'\n",
      "full_hand=('2H', '3H', '4H', '5H', 'TS')\n",
      "path_param='2H,3H,4H,5H,TS'\n",
      "full_hand=('2H', '3H', '4H', '5H', 'JS')\n",
      "path_param='2H,3H,4H,5H,JS'\n",
      "full_hand=('2H', '3H', '4H', '5H', 'QS')\n",
      "path_param='2H,3H,4H,5H,QS'\n",
      "full_hand=('2H', '3H', '4H', '5H', 'KS')\n",
      "path_param='2H,3H,4H,5H,KS'\n",
      "full_hand=('2H', '3H', '4H', '5H', 'AS')\n",
      "path_param='2H,3H,4H,5H,AS'\n",
      "full_hand=('2H', '3H', '4H', '5H', '2C')\n",
      "path_param='2H,3H,4H,5H,2C'\n",
      "full_hand=('2H', '3H', '4H', '5H', '3C')\n",
      "path_param='2H,3H,4H,5H,3C'\n",
      "full_hand=('2H', '3H', '4H', '5H', '4C')\n",
      "path_param='2H,3H,4H,5H,4C'\n",
      "full_hand=('2H', '3H', '4H', '5H', '5C')\n",
      "path_param='2H,3H,4H,5H,5C'\n",
      "full_hand=('2H', '3H', '4H', '5H', '6C')\n",
      "path_param='2H,3H,4H,5H,6C'\n",
      "full_hand=('2H', '3H', '4H', '5H', '7C')\n",
      "path_param='2H,3H,4H,5H,7C'\n",
      "full_hand=('2H', '3H', '4H', '5H', '8C')\n",
      "path_param='2H,3H,4H,5H,8C'\n",
      "full_hand=('2H', '3H', '4H', '5H', '9C')\n",
      "path_param='2H,3H,4H,5H,9C'\n",
      "full_hand=('2H', '3H', '4H', '5H', 'TC')\n",
      "path_param='2H,3H,4H,5H,TC'\n",
      "full_hand=('2H', '3H', '4H', '5H', 'JC')\n",
      "path_param='2H,3H,4H,5H,JC'\n",
      "full_hand=('2H', '3H', '4H', '5H', 'QC')\n",
      "path_param='2H,3H,4H,5H,QC'\n",
      "full_hand=('2H', '3H', '4H', '5H', 'KC')\n",
      "path_param='2H,3H,4H,5H,KC'\n",
      "full_hand=('2H', '3H', '4H', '5H', 'AC')\n",
      "path_param='2H,3H,4H,5H,AC'\n"
     ]
    }
   ],
   "source": [
    "import csv\n",
    "\n",
    "import requests\n",
    "\n",
    "\n",
    "possible_hands = list(combinations(boring_deck, r=4))\n",
    "amended_possible_hands = list(possible_hands[0:1])\n",
    "print(f\"{len(possible_hands)=:,}\")\n",
    "\n",
    "print(amended_possible_hands)\n",
    "\n",
    "# write to csv\n",
    "with open(\"hands.csv\", \"w\") as csv_file:\n",
    "    writer = csv.writer(csv_file)\n",
    "\n",
    "    for hand in amended_possible_hands:\n",
    "\n",
    "        remaining_deck = boring_deck.copy()\n",
    "        [remaining_deck.remove(card) for card in hand]\n",
    "\n",
    "        for cut_card in remaining_deck:\n",
    "            full_hand = hand + (cut_card,)\n",
    "            print(f\"{full_hand=}\")\n",
    "\n",
    "            separator = \",\"\n",
    "            path_param = separator.join(full_hand)\n",
    "            print(f\"{path_param=}\")\n",
    "\n",
    "            url = f\"https://cribbagecounter.kackman.net/api/score?hand={path_param}&isCrib=false\"\n",
    "            response = requests.get(url)\n",
    "            val = response.text\n",
    "            writer.writerow([val, full_hand])"
   ]
  },
  {
   "cell_type": "code",
   "execution_count": 46,
   "metadata": {},
   "outputs": [
    {
     "name": "stdout",
     "output_type": "stream",
     "text": [
      "52\n",
      "['2♥', '3♥', '4♥', '5♥', '6♥', '7♥', '8♥', '9♥', '10♥', 'J♥', 'Q♥', 'K♥', 'A♥', '2♦']\n"
     ]
    }
   ],
   "source": [
    "print(len(deck))\n",
    "print(deck[0:14])"
   ]
  },
  {
   "cell_type": "code",
   "execution_count": 34,
   "metadata": {},
   "outputs": [],
   "source": [
    "starting_hand_size = 6\n",
    "hand_size = 4"
   ]
  },
  {
   "cell_type": "code",
   "execution_count": 36,
   "metadata": {},
   "outputs": [
    {
     "name": "stdout",
     "output_type": "stream",
     "text": [
      "unique_hands=12,994,800\n"
     ]
    }
   ],
   "source": [
    "# 52c4 * 48\n",
    "# where 48 is the remaining cards after you get your hand\n",
    "unique_hands = math.comb(len(deck), hand_size) * (len(deck) - hand_size)\n",
    "print(f\"{unique_hands=:,}\")"
   ]
  },
  {
   "cell_type": "code",
   "execution_count": 37,
   "metadata": {},
   "outputs": [
    {
     "name": "stdout",
     "output_type": "stream",
     "text": [
      "unique_hands_dealt=20,358,520\n",
      "unique_sub_hands=15\n",
      "total_possible_hands=305,377,800\n",
      "possible_crib_hands=15,525\n"
     ]
    }
   ],
   "source": [
    "# 6 cards dealt to you, you have to discard 2\n",
    "unique_hands_dealt = math.comb(len(deck), starting_hand_size)\n",
    "print(f\"{unique_hands_dealt=:,}\")\n",
    "\n",
    "# from the 6 dealt, you could discard any 2 of them\n",
    "unique_sub_hands = math.comb(starting_hand_size, hand_size)\n",
    "print(f\"{unique_sub_hands=:,}\")\n",
    "\n",
    "# this means you can have any combination of 52c6 * 6c2 number of hands\n",
    "total_possible_hands = unique_hands_dealt * unique_sub_hands\n",
    "print(f\"{total_possible_hands=:,}\")\n",
    "\n",
    "# crib will be made up of (52-6)c2 * 2 of your 6 cards (or 6c2)\n",
    "possible_crib_hands = math.comb(len(deck) - starting_hand_size, 2) * unique_sub_hands\n",
    "print(f\"{possible_crib_hands=:,}\")"
   ]
  },
  {
   "cell_type": "code",
   "execution_count": 26,
   "metadata": {},
   "outputs": [
    {
     "name": "stdout",
     "output_type": "stream",
     "text": [
      "example_starting_hand=['10♠', 'Q♠', 'K♥', '1♦', 'J♠', '3♥']\n",
      "len(remaining_deck)=46\n",
      "len(possible_hands)=15\n",
      "possible_hands=[('10♠', 'Q♠', 'K♥', '1♦'), ('10♠', 'Q♠', 'K♥', 'J♠'), ('10♠', 'Q♠', 'K♥', '3♥'), ('10♠', 'Q♠', '1♦', 'J♠'), ('10♠', 'Q♠', '1♦', '3♥'), ('10♠', 'Q♠', 'J♠', '3♥'), ('10♠', 'K♥', '1♦', 'J♠'), ('10♠', 'K♥', '1♦', '3♥'), ('10♠', 'K♥', 'J♠', '3♥'), ('10♠', '1♦', 'J♠', '3♥'), ('Q♠', 'K♥', '1♦', 'J♠'), ('Q♠', 'K♥', '1♦', '3♥'), ('Q♠', 'K♥', 'J♠', '3♥'), ('Q♠', '1♦', 'J♠', '3♥'), ('K♥', '1♦', 'J♠', '3♥')]\n",
      "len(possible_complete_hands)=690\n"
     ]
    }
   ],
   "source": [
    "# example_starting_hand = random.choices(deck, k=starting_hand_size)\n",
    "example_starting_hand = [\"10♠\", \"Q♠\", \"K♥\", \"1♦\", \"J♠\", \"3♥\"]\n",
    "print(f\"{example_starting_hand=}\")\n",
    "\n",
    "remaining_deck = deck.copy()\n",
    "for cut_card in example_starting_hand:\n",
    "    remaining_deck.remove(cut_card)\n",
    "print(f\"{len(remaining_deck)=}\")\n",
    "\n",
    "possible_hands = list(combinations(example_starting_hand, r=hand_size))\n",
    "set_possible_hands = set(possible_hands)  # proof of no duplicates for peace of mind\n",
    "print(f\"{len(possible_hands)=}\")\n",
    "print(f\"{possible_hands=}\")\n",
    "\n",
    "possible_complete_hands = []\n",
    "for possible_hand in possible_hands:\n",
    "    for cut_card in remaining_deck:\n",
    "        possible_hand += (cut_card,)\n",
    "        possible_complete_hands.append(possible_hand)\n",
    "\n",
    "set_possible_complete_hands = set(\n",
    "    possible_complete_hands\n",
    ")  # proof of no duplicates for peace of mind\n",
    "\n",
    "print(f\"{len(possible_complete_hands)=}\")"
   ]
  },
  {
   "cell_type": "code",
   "execution_count": null,
   "metadata": {},
   "outputs": [],
   "source": []
  }
 ],
 "metadata": {
  "kernelspec": {
   "display_name": "venv",
   "language": "python",
   "name": "python3"
  },
  "language_info": {
   "codemirror_mode": {
    "name": "ipython",
    "version": 3
   },
   "file_extension": ".py",
   "mimetype": "text/x-python",
   "name": "python",
   "nbconvert_exporter": "python",
   "pygments_lexer": "ipython3",
   "version": "3.12.2"
  }
 },
 "nbformat": 4,
 "nbformat_minor": 2
}
