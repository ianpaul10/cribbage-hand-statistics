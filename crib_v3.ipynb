{
 "cells": [
  {
   "cell_type": "code",
   "execution_count": 3,
   "metadata": {},
   "outputs": [],
   "source": [
    "import math\n",
    "import statistics\n",
    "import random\n",
    "import utils\n",
    "from itertools import combinations\n",
    "\n",
    "import pandas as pd\n",
    "import numpy as np\n",
    "import matplotlib.pyplot as plt\n",
    "\n",
    "import csv"
   ]
  },
  {
   "cell_type": "code",
   "execution_count": 4,
   "metadata": {},
   "outputs": [],
   "source": [
    "_pretty_suits = [\"♥\", \"♦\", \"♠\", \"♣\"]\n",
    "_boring_suits = [\"H\", \"D\", \"S\", \"C\"]\n",
    "\n",
    "_values = list(range(2, 10))\n",
    "_values.extend([\"T\", \"J\", \"Q\", \"K\", \"A\"])\n",
    "\n",
    "pretty_deck = []\n",
    "deck = []\n",
    "for i in range(len(_pretty_suits)):\n",
    "    for value in _values:\n",
    "        pretty_deck.append(f\"{value}{_pretty_suits[i]}\")\n",
    "        deck.append(f\"{value}{_boring_suits[i]}\")"
   ]
  },
  {
   "cell_type": "code",
   "execution_count": 5,
   "metadata": {},
   "outputs": [
    {
     "name": "stdout",
     "output_type": "stream",
     "text": [
      "52\n",
      "['2H', '3H', '4H', '5H', '6H', '7H', '8H', '9H', 'TH', 'JH', 'QH', 'KH', 'AH', '2D']\n"
     ]
    }
   ],
   "source": [
    "print(len(deck))\n",
    "print(deck[0:14])"
   ]
  },
  {
   "cell_type": "code",
   "execution_count": 6,
   "metadata": {},
   "outputs": [],
   "source": [
    "starting_hand_size = 6\n",
    "hand_size = 4"
   ]
  },
  {
   "cell_type": "code",
   "execution_count": 7,
   "metadata": {},
   "outputs": [
    {
     "name": "stdout",
     "output_type": "stream",
     "text": [
      "unique_hands=12,994,800\n",
      "unique_hands_dealt=20,358,520\n",
      "unique_sub_hands=15\n",
      "total_possible_hands=305,377,800\n",
      "possible_crib_hands=15,525\n"
     ]
    }
   ],
   "source": [
    "# 52c4 * 48\n",
    "# where 48 is the remaining cards after you get your hand\n",
    "unique_hands = math.comb(len(deck), hand_size) * (len(deck) - hand_size)\n",
    "print(f\"{unique_hands=:,}\")\n",
    "\n",
    "# 6 cards dealt to you, you have to discard 2\n",
    "unique_hands_dealt = math.comb(len(deck), starting_hand_size)\n",
    "print(f\"{unique_hands_dealt=:,}\")\n",
    "\n",
    "# from the 6 dealt, you could discard any 2 of them\n",
    "unique_sub_hands = math.comb(starting_hand_size, hand_size)\n",
    "print(f\"{unique_sub_hands=:,}\")\n",
    "\n",
    "# this means you can have any combination of 52c6 * 6c2 number of hands\n",
    "total_possible_hands = unique_hands_dealt * unique_sub_hands\n",
    "print(f\"{total_possible_hands=:,}\")\n",
    "\n",
    "# crib will be made up of (52-6)c2 * 2 of your 6 cards (or 6c2)\n",
    "possible_crib_hands = math.comb(len(deck) - starting_hand_size, 2) * unique_sub_hands\n",
    "print(f\"{possible_crib_hands=:,}\")"
   ]
  },
  {
   "cell_type": "code",
   "execution_count": 8,
   "metadata": {},
   "outputs": [],
   "source": [
    "# set of all possible 6 card starting hands\n",
    "starting_hand_list = list(combinations(deck, r=starting_hand_size))\n",
    "# proof of no duplicates for peace of mind\n",
    "starting_hand_set = frozenset(starting_hand_list)"
   ]
  },
  {
   "cell_type": "code",
   "execution_count": 9,
   "metadata": {},
   "outputs": [
    {
     "name": "stdout",
     "output_type": "stream",
     "text": [
      "len(starting_hand_list)=20,358,520\n",
      "[('2H', '3H', '4H', '5H', '6H', '7H'), ('2H', '3H', '4H', '5H', '6H', '8H'), ('2H', '3H', '4H', '5H', '6H', '9H'), ('2H', '3H', '4H', '5H', '6H', 'TH'), ('2H', '3H', '4H', '5H', '6H', 'JH'), ('2H', '3H', '4H', '5H', '6H', 'QH'), ('2H', '3H', '4H', '5H', '6H', 'KH'), ('2H', '3H', '4H', '5H', '6H', 'AH'), ('2H', '3H', '4H', '5H', '6H', '2D'), ('2H', '3H', '4H', '5H', '6H', '3D')]\n"
     ]
    }
   ],
   "source": [
    "print(f\"{len(starting_hand_list)=:,}\")\n",
    "print(f\"{starting_hand_list[:10]}\")"
   ]
  },
  {
   "cell_type": "code",
   "execution_count": 10,
   "metadata": {},
   "outputs": [],
   "source": [
    "points_df = pd.read_csv(\"crib_hands.csv\")\n",
    "\n",
    "# making columns easier to work with\n",
    "points_df[\"hand\"] = (\n",
    "    points_df[\"hand_card_1\"]\n",
    "    + \",\"\n",
    "    + points_df[\"hand_card_2\"]\n",
    "    + \",\"\n",
    "    + points_df[\"hand_card_3\"]\n",
    "    + \",\"\n",
    "    + points_df[\"hand_card_4\"]\n",
    "    + \",\"\n",
    "    + points_df[\"cut_card\"]\n",
    ")\n",
    "points_df = points_df.drop(\n",
    "    columns=[\"hand_card_1\", \"hand_card_2\", \"hand_card_3\", \"hand_card_4\", \"cut_card\"]\n",
    ")\n",
    "\n",
    "points_df.set_index(\"hand\", inplace=True)\n",
    "\n",
    "points_dict = points_df.T.to_dict(\n",
    "    orient=\"list\",\n",
    ")"
   ]
  },
  {
   "cell_type": "code",
   "execution_count": 11,
   "metadata": {},
   "outputs": [],
   "source": [
    "class PersonalHand:\n",
    "    def __init__(self, cards: tuple[str]):\n",
    "        self.cards = cards\n",
    "        self.cards_str = \",\".join(cards)\n",
    "        self.cards_set = set(cards)\n",
    "\n",
    "\n",
    "class PlayedHand:\n",
    "    def __init__(self, hand_cards: PersonalHand, cut_card: str):\n",
    "        self.hand_cards = hand_cards\n",
    "        self.cut_card = cut_card\n",
    "        self.points: int = self._get_points(hand_cards, cut_card)\n",
    "\n",
    "    def _get_points(self, hand_cards: PersonalHand, cut_card: str):\n",
    "        # TODO\n",
    "        # val = points_df.loc[\n",
    "        #     (points_df[\"hand\"] == hand_cards.cards_str)\n",
    "        #     & (points_df[\"cut_card\"] == cut_card)\n",
    "        # ].points.values[0]\n",
    "\n",
    "        hand = hand_cards.cards_str + \",\" + cut_card\n",
    "\n",
    "        try:\n",
    "            val = points_dict[hand]\n",
    "        except KeyError:\n",
    "            print(hand)\n",
    "            raise\n",
    "\n",
    "        return int(val[0])\n",
    "\n",
    "\n",
    "class PossibleHand:\n",
    "    def __init__(self, four_card_hand: PersonalHand, possible_crib_cards: tuple[str]):\n",
    "        self.hand = four_card_hand\n",
    "        self.possible_crib_cards = possible_crib_cards\n",
    "\n",
    "        self.possible_played_hands: list[PlayedHand] = []\n",
    "        self.possible_points: list[int] = []\n",
    "        self.points_max: int = 0\n",
    "        self.points_min: int = 29\n",
    "        for cut_card in possible_crib_cards:\n",
    "            played_hand = PlayedHand(four_card_hand, cut_card)\n",
    "            self.possible_played_hands.append(played_hand)\n",
    "            self.possible_points.append(played_hand.points)\n",
    "\n",
    "            if played_hand.points > self.points_max:\n",
    "                self.points_max = played_hand.points\n",
    "            if played_hand.points < self.points_min:\n",
    "                self.points_min = played_hand.points\n",
    "\n",
    "        # self.possible_points = [hand.points for hand in self.possible_played_hands]\n",
    "\n",
    "        self.points_ev = statistics.mean(self.possible_points)\n",
    "        self.points_stdev = statistics.stdev(self.possible_points)\n",
    "        self.points_median = statistics.median(self.possible_points)\n",
    "        # self.points_max = max(self.possible_points)\n",
    "        # self.points_min = min(self.possible_points)\n",
    "\n",
    "\n",
    "class DealtHand:\n",
    "    def __init__(self, cards: tuple[str]):\n",
    "        self.cards = cards\n",
    "\n",
    "        _copied_deck = deck.copy()\n",
    "\n",
    "        for card in cards:\n",
    "            _copied_deck.remove(card)\n",
    "\n",
    "        self.possible_crib_cards = _copied_deck\n",
    "        _possible_hands_tuples = list(combinations(cards, r=hand_size))\n",
    "        self.possible_personal_hands = [\n",
    "            PersonalHand(hand) for hand in _possible_hands_tuples\n",
    "        ]\n",
    "\n",
    "        self.possible_hands = [\n",
    "            PossibleHand(hand, self.possible_crib_cards)\n",
    "            for hand in self.possible_personal_hands\n",
    "        ]\n",
    "\n",
    "        self.ev_hand = max(self.possible_hands, key=lambda hand: hand.points_ev)\n",
    "        self.max_hand = max(self.possible_hands, key=lambda hand: hand.points_max)\n",
    "        self.median_hand = max(self.possible_hands, key=lambda hand: hand.points_median)"
   ]
  },
  {
   "cell_type": "code",
   "execution_count": 12,
   "metadata": {},
   "outputs": [],
   "source": [
    "columns = [\n",
    "    \"dealt_hand\",\n",
    "    \"max_hand\",\n",
    "    \"max_hand_ev_points\",\n",
    "    \"max_hand_max_points\",\n",
    "    \"max_hand_median_points\",\n",
    "    \"max_hand_stdev_points\",\n",
    "    \"median_hand\",\n",
    "    \"median_hand_ev_points\",\n",
    "    \"median_hand_max_points\",\n",
    "    \"median_hand_median_points\",\n",
    "    \"median_hand_stdev_points\",\n",
    "    \"ev_hand\",\n",
    "    \"ev_hand_ev_points\",\n",
    "    \"ev_hand_max_points\",\n",
    "    \"ev_hand_median_points\",\n",
    "    \"ev_hand_stdev_points\",\n",
    "]\n",
    "\n",
    "df = pd.DataFrame(columns=columns)"
   ]
  },
  {
   "cell_type": "code",
   "execution_count": 13,
   "metadata": {},
   "outputs": [
    {
     "name": "stderr",
     "output_type": "stream",
     "text": [
      "100%|██████████| 20358520/20358520 [19:22:33<00:00, 291.86it/s]    \n"
     ]
    }
   ],
   "source": [
    "from tqdm import tqdm\n",
    "\n",
    "with open(\"crib_hands_output.csv\", \"w\") as csv_file:\n",
    "    writer = csv.writer(csv_file)\n",
    "    writer.writerow(columns)\n",
    "\n",
    "    for starting_hand in tqdm(starting_hand_list):\n",
    "        staring_dealt_hand: DealtHand = DealtHand(starting_hand)\n",
    "\n",
    "        row = [\n",
    "            \",\".join(staring_dealt_hand.cards),\n",
    "        ]\n",
    "\n",
    "        best_hands = [\n",
    "            staring_dealt_hand.max_hand,\n",
    "            staring_dealt_hand.median_hand,\n",
    "            staring_dealt_hand.ev_hand,\n",
    "        ]\n",
    "\n",
    "        for best_hand in best_hands:\n",
    "            row.append(best_hand.hand.cards_str)\n",
    "            row.append(best_hand.points_ev)\n",
    "            row.append(best_hand.points_max)\n",
    "            row.append(best_hand.points_median)\n",
    "            row.append(best_hand.points_stdev)\n",
    "\n",
    "        writer.writerow(row)\n",
    "\n",
    "        # df = pd.concat([pd.DataFrame([[1,2]], columns=df.columns), df], ignore_index=True)\n",
    "        # df = pd.concat([pd.DataFrame([row], columns=df.columns), df], ignore_index=True)"
   ]
  }
 ],
 "metadata": {
  "kernelspec": {
   "display_name": "venv",
   "language": "python",
   "name": "python3"
  },
  "language_info": {
   "codemirror_mode": {
    "name": "ipython",
    "version": 3
   },
   "file_extension": ".py",
   "mimetype": "text/x-python",
   "name": "python",
   "nbconvert_exporter": "python",
   "pygments_lexer": "ipython3",
   "version": "3.12.2"
  }
 },
 "nbformat": 4,
 "nbformat_minor": 2
}
